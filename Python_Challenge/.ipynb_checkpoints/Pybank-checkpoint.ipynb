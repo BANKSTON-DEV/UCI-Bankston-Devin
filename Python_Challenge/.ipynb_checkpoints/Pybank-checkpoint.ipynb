{
 "cells": [
  {
   "cell_type": "code",
   "execution_count": 1,
   "metadata": {},
   "outputs": [],
   "source": [
    "import os\n",
    "import csv"
   ]
  },
  {
   "cell_type": "code",
   "execution_count": 2,
   "metadata": {},
   "outputs": [],
   "source": [
    "months = [] \n",
    "profit_loss_change = []"
   ]
  },
  {
   "cell_type": "code",
   "execution_count": 3,
   "metadata": {},
   "outputs": [],
   "source": [
    "count_months = 0\n",
    "net_profit_loss = 0\n",
    "previous_profit_loss = 0\n",
    "currrent_monthly_change = 0\n",
    "profit_monthly_change = 0"
   ]
  },
  {
   "cell_type": "code",
   "execution_count": 5,
   "metadata": {},
   "outputs": [
    {
     "ename": "IndentationError",
     "evalue": "expected an indented block (<ipython-input-5-cfb4355b65e9>, line 4)",
     "output_type": "error",
     "traceback": [
      "\u001b[1;36m  File \u001b[1;32m\"<ipython-input-5-cfb4355b65e9>\"\u001b[1;36m, line \u001b[1;32m4\u001b[0m\n\u001b[1;33m    cvs_reader = cvs_reader(csv_file, delimiter=\",\")\u001b[0m\n\u001b[1;37m             ^\u001b[0m\n\u001b[1;31mIndentationError\u001b[0m\u001b[1;31m:\u001b[0m expected an indented block\n"
     ]
    }
   ],
   "source": [
    "pybank_csv = os.path.join(\"..\", \"Resources\", \"pybank.csv\")\n",
    "\n",
    "with open(pybank_csv) as csv_file:\n",
    "cvs_reader = cvs_reader(csv_file, delimiter=\",\")\n"
   ]
  },
  {
   "cell_type": "code",
   "execution_count": 6,
   "metadata": {},
   "outputs": [
    {
     "ename": "SyntaxError",
     "evalue": "invalid syntax (<ipython-input-6-be0687b2f9ca>, line 1)",
     "output_type": "error",
     "traceback": [
      "\u001b[1;36m  File \u001b[1;32m\"<ipython-input-6-be0687b2f9ca>\"\u001b[1;36m, line \u001b[1;32m1\u001b[0m\n\u001b[1;33m    for row in csv_reader\u001b[0m\n\u001b[1;37m                         ^\u001b[0m\n\u001b[1;31mSyntaxError\u001b[0m\u001b[1;31m:\u001b[0m invalid syntax\n"
     ]
    }
   ],
   "source": [
    "#count of months \n",
    "count_months += 1\n",
    "\n",
    "currrent_monthly_change = int(row[1])\n",
    "net_profit_loss += currrent_monthly_change\n",
    "for row in csv_reader\n",
    "#count of months \n",
    "count_months += 1\n",
    "\n",
    "currrent_monthly_change = int(row[1])\n",
    "net_profit_loss += currrent_monthly_change\n"
   ]
  },
  {
   "cell_type": "code",
   "execution_count": null,
   "metadata": {},
   "outputs": [],
   "source": [
    "sum_profit_loss = sum(profit_loss_change)\n",
    "averages_profit_loss = (sum_profit_loss).mean()\n",
    "\n",
    "highest_change = (profit_loss_changes).max()\n",
    "lowest_change = (profit_loss_changes).max()\n",
    "\n",
    "\n",
    "print (\"Financial Analysis\")\n",
    "print (\"-----------------------\")\n",
    "\n",
    "print(f\"Total Months: {count_months}\")\n",
    "print(f\"Net Total Ammount: {net_profit_loss}\")\n",
    "print(f\"Average Profit / Loss: {averages_profit_loss}\")\n",
    "print(f\"Greatest Increase : {highest_change}\")\n",
    "print(f\"Greatest Decrease: {lowest_change}\")"
   ]
  }
 ],
 "metadata": {
  "kernelspec": {
   "display_name": "Python 3",
   "language": "python",
   "name": "python3"
  },
  "language_info": {
   "codemirror_mode": {
    "name": "ipython",
    "version": 3
   },
   "file_extension": ".py",
   "mimetype": "text/x-python",
   "name": "python",
   "nbconvert_exporter": "python",
   "pygments_lexer": "ipython3",
   "version": "3.7.6"
  }
 },
 "nbformat": 4,
 "nbformat_minor": 4
}
