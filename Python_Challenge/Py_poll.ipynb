{
 "cells": [
  {
   "cell_type": "code",
   "execution_count": 1,
   "metadata": {},
   "outputs": [],
   "source": [
    "import os\n",
    "import csv\n",
    "\n",
    "#variables \n",
    "voter_candidate = []\n",
    "votes_per_candiate = []\n"
   ]
  },
  {
   "cell_type": "code",
   "execution_count": null,
   "metadata": {},
   "outputs": [],
   "source": [
    "#directory \n",
    "pypoll_csv = os.path.join(\"..\", 'Resources', 'pypoll.csv')\n",
    "#open and read\n",
    "with open(py_poll) as csv_file:\n",
    "\n",
    "    cvs_reader = cvs_reader(csv_file, delimiter=\",\")\n",
    "\n",
    "    csv_reader = next(csv_file)\n"
   ]
  },
  {
   "cell_type": "code",
   "execution_count": null,
   "metadata": {},
   "outputs": [],
   "source": [
    "  for row in csv_reader:\n",
    "        voter_candidate.append(row[2])\n",
    "\n",
    "    sorted_list = sorted(voter_candidate)\n",
    "\n",
    "    arrange_list = sorted_list \n",
    "\n",
    "    count_candidate = Counter (arrange_list)\n",
    "    votes_per_candiate.append(count_candidate.most_common())\n"
   ]
  },
  {
   "cell_type": "code",
   "execution_count": null,
   "metadata": {},
   "outputs": [],
   "source": [
    "for item in votes_per_candiate:\n",
    "      \n",
    "\n",
    "    print(\"---Election Results---\")\n",
    "    print(\"----------------------\")\n",
    "\n",
    "    print(f\"Total Votes:  {sum(count_candidate.values())}\")\n",
    "   \n",
    "    print(\"-------------------------\")\n",
    "\n",
    "    \n",
    "    print(\"-------------------------\")\n",
    "   \n",
    "    print(f\"Winner:  {votes_per_candidate}\")\n",
    "   \n",
    "    print(\"-------------------------\")"
   ]
  },
  {
   "cell_type": "code",
   "execution_count": null,
   "metadata": {},
   "outputs": [],
   "source": []
  }
 ],
 "metadata": {
  "kernelspec": {
   "display_name": "Python 3",
   "language": "python",
   "name": "python3"
  },
  "language_info": {
   "codemirror_mode": {
    "name": "ipython",
    "version": 3
   },
   "file_extension": ".py",
   "mimetype": "text/x-python",
   "name": "python",
   "nbconvert_exporter": "python",
   "pygments_lexer": "ipython3",
   "version": "3.7.6"
  }
 },
 "nbformat": 4,
 "nbformat_minor": 4
}
